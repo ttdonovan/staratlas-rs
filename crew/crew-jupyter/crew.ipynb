{
 "cells": [
  {
   "cell_type": "code",
   "execution_count": null,
   "metadata": {},
   "outputs": [],
   "source": [
    "%pip install polars"
   ]
  },
  {
   "cell_type": "code",
   "execution_count": null,
   "metadata": {},
   "outputs": [],
   "source": [
    "import polars as pl\n",
    "crew = pl.read_parquet(\"../tmp/crew.db.parquet/crew.parquet\")"
   ]
  },
  {
   "cell_type": "code",
   "execution_count": null,
   "metadata": {},
   "outputs": [],
   "source": [
    "print(crew.head(3))"
   ]
  },
  {
   "cell_type": "code",
   "execution_count": 15,
   "metadata": {},
   "outputs": [
    {
     "name": "stdout",
     "output_type": "stream",
     "text": [
      "shape: (3, 23)\n",
      "┌────────────┬────────────┬───────┬────────────┬───┬────────┬────────────┬────────────┬────────────┐\n",
      "│ mint_offse ┆ name       ┆ age   ┆ agreeablen ┆ … ┆ sex    ┆ aptitudes  ┆ aptitude_p ┆ aptitude_g │\n",
      "│ t          ┆ ---        ┆ ---   ┆ ess        ┆   ┆ ---    ┆ ---        ┆ erks       ┆ ains       │\n",
      "│ ---        ┆ str        ┆ f64   ┆ ---        ┆   ┆ str    ┆ list[str]  ┆ ---        ┆ ---        │\n",
      "│ i32        ┆            ┆       ┆ f64        ┆   ┆        ┆            ┆ list[str]  ┆ list[str]  │\n",
      "╞════════════╪════════════╪═══════╪════════════╪═══╪════════╪════════════╪════════════╪════════════╡\n",
      "│ 430024     ┆ Vejaphmi   ┆ 37.42 ┆ 0.47       ┆ … ┆ male   ┆ [\"engineer ┆ [\"engineer ┆ [\"major\"]  │\n",
      "│            ┆ Urootornat ┆       ┆            ┆   ┆        ┆ ing-major\" ┆ ing\"]      ┆            │\n",
      "│            ┆ ha         ┆       ┆            ┆   ┆        ┆ ]          ┆            ┆            │\n",
      "│ 331512     ┆ Sleuab     ┆ 23.85 ┆ 0.86       ┆ … ┆ body-1 ┆ [\"command- ┆ [\"command\" ┆ [\"major\",  │\n",
      "│            ┆ .lrnr      ┆       ┆            ┆   ┆        ┆ minor\",    ┆ ,          ┆ \"minor\"]   │\n",
      "│            ┆            ┆       ┆            ┆   ┆        ┆ \"medical-m ┆ \"medical\"] ┆            │\n",
      "│            ┆            ┆       ┆            ┆   ┆        ┆ aj…        ┆            ┆            │\n",
      "│ 285848     ┆ Tynix      ┆ 34.59 ┆ 0.98       ┆ … ┆ female ┆ [\"science- ┆ [\"science\" ┆ [\"major\"]  │\n",
      "│            ┆ Alindria   ┆       ┆            ┆   ┆        ┆ major\"]    ┆ ]          ┆            │\n",
      "└────────────┴────────────┴───────┴────────────┴───┴────────┴────────────┴────────────┴────────────┘\n"
     ]
    }
   ],
   "source": [
    "print(crew.sample(3))"
   ]
  },
  {
   "cell_type": "code",
   "execution_count": null,
   "metadata": {},
   "outputs": [],
   "source": []
  }
 ],
 "metadata": {
  "kernelspec": {
   "display_name": "Python 3",
   "language": "python",
   "name": "python3"
  },
  "language_info": {
   "codemirror_mode": {
    "name": "ipython",
    "version": 3
   },
   "file_extension": ".py",
   "mimetype": "text/x-python",
   "name": "python",
   "nbconvert_exporter": "python",
   "pygments_lexer": "ipython3",
   "version": "3.10.11"
  }
 },
 "nbformat": 4,
 "nbformat_minor": 2
}
